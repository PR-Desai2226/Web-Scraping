{
 "cells": [
  {
   "cell_type": "code",
   "execution_count": null,
   "metadata": {},
   "outputs": [],
   "source": [
    "import json\n",
    "import re\n",
    "import os\n",
    "import requests\n",
    "from googleapiclient.discovery import build\n",
    "from google.oauth2 import service_account\n",
    "from bs4 import BeautifulSoup\n",
    "from IPython.display import HTML\n",
    "\n",
    "SERVICE_ACCOUNT_FILE = 'keys.json'\n",
    "SCOPES = ['https://www.googleapis.com/auth/spreadsheets.readonly']\n",
    "creds = None \n",
    "creds = service_account.Credentials.from_service_account_file(SERVICE_ACCOUNT_FILE, scopes=SCOPES)\n",
    "SAMPLE_SPREADSHEET_ID = '1W...9k' # Not provided for privacy reasons\n",
    "service = build('sheets', 'v4', credentials=creds)\n",
    "sheet = service.spreadsheets().values()\n"
   ]
  },
  {
   "cell_type": "code",
   "execution_count": null,
   "metadata": {},
   "outputs": [],
   "source": [
    "class ScrapeData():\n",
    "\n",
    "    def read_from_link(self, link, replace_list=['\\n','\\t','\\r','\\u200d','\\xa0']):\n",
    "        page = requests.get(link)\n",
    "        soup = BeautifulSoup(page.content, 'html.parser')\n",
    "        data = []\n",
    "        if (link.find('esamaad') >= 0):\n",
    "            find = soup.find_all('div', attrs={'style':'text-align: justify'})\n",
    "            if(not find):\n",
    "                find = soup.find_all('p', attrs={'style':'text-align: justify'})\n",
    "                if(not find):\n",
    "                    find = soup.find_all('p')\n",
    "        elif(link.find('vikaspedia') >= 0):\n",
    "            find = soup.find_all('div', attrs={'id':'texttospeak'})\n",
    "        else:\n",
    "            find = soup.find_all('p')\n",
    "        for i in range(len(find)):\n",
    "            text = find[i].get_text()\n",
    "            text = re.sub(\"[a-zA-Z-|©&@:/^%`'$#•ｾ＠!◌<>{}_–‘’“”=~;Ø(,+*)\\[\\]]*\", \"\", text)\n",
    "            for j in range(len(replace_list)):\n",
    "                text = text.replace(replace_list[j],'')\n",
    "            text = re.sub(\"[.]+\", \".\", text)\n",
    "            text = re.sub(' +', ' ', text)\n",
    "            text = text.strip()\n",
    "            if len(text)>2:\n",
    "                data.append(text)\n",
    "\n",
    "        return data\n",
    "\n",
    "\n",
    "    def read_page(self, link=None):\n",
    "\n",
    "        if link:\n",
    "            text = self.read_from_link(link)\n",
    "            return(text)\n",
    "\n",
    "\n",
    "\n",
    "def link_data(url):\n",
    "    data = []\n",
    "    if(url.lower().endswith('.pdf')):\n",
    "        return data\n",
    "    try:\n",
    "      data = scrape_tool.read_page(link=url)\n",
    "      data = list(set(data))\n",
    "    except:\n",
    "      data += []\n",
    "\n",
    "    return data\n"
   ]
  },
  {
   "cell_type": "code",
   "execution_count": null,
   "metadata": {
    "code_folding": []
   },
   "outputs": [],
   "source": [
    "def fetchData(i, types, Ranges):\n",
    "    \n",
    "    folder = types[i]\n",
    "    \n",
    "    if not os.path.exists(\"jsonOutputs\"):\n",
    "        os.mkdir(\"jsonOutputs\")\n",
    "    if not os.path.exists(f\"jsonOutputs/{folder}\"):\n",
    "        os.mkdir(f\"jsonOutputs/{folder}\")\n",
    "    \n",
    "    SAMPLE_RANGE_NAME = f'{folder.upper()}!{Ranges[i]}'\n",
    "    rows = sheet.get(spreadsheetId=SAMPLE_SPREADSHEET_ID, range=SAMPLE_RANGE_NAME, valueRenderOption='FORMULA').execute().get('values', [])\n",
    "    \n",
    "    topic = ''\n",
    "    data = []\n",
    "\n",
    "    contents = []\n",
    "    for r in rows:\n",
    "        if(len(r)>0 and r[0]):\n",
    "            if(topic and contents):\n",
    "                title = ''.join(e for e in topic if e.isalnum())\n",
    "                with open(f'jsonOutputs/{folder}/{title}.json', 'w+', encoding='utf-8') as f:\n",
    "                    json.dump(contents, f, ensure_ascii=False, indent=4)\n",
    "            \n",
    "            topic = re.findall('\"([^\"]*)\"',r[0])\n",
    "            contents = []\n",
    "            if(topic):\n",
    "                topic = topic[1]\n",
    "            if(not (topic and topic.strip())):\n",
    "                topic = r[0]\n",
    "\n",
    "        sub_topic = ''\n",
    "        if(len(r)>1 and r[1]):\n",
    "            sub_topic = re.findall('\"([^\"]*)\"',r[1])\n",
    "            if(sub_topic):\n",
    "                sub_topic = sub_topic[1]\n",
    "            if(not (sub_topic and sub_topic.strip())):\n",
    "                sub_topic = r[1]\n",
    "\n",
    "        if(len(r)>2 and r[2]):\n",
    "\n",
    "            data = []\n",
    "\n",
    "            for c in r[2:]:\n",
    "                link = re.findall('\"([^\"]*)\"',c)\n",
    "                if(link):\n",
    "                    link = link[0]\n",
    "                    if(link):\n",
    "                        linkdata = link_data(link)\n",
    "                        if(linkdata):\n",
    "                            linkdata = {'url': link, 'data': linkdata}\n",
    "                            data.append(linkdata.copy())\n",
    "\n",
    "            if(data):\n",
    "                out = {'topic': topic, 'sub_topic': sub_topic, 'data': data}\n",
    "                contents.append(out.copy())\n"
   ]
  },
  {
   "cell_type": "code",
   "execution_count": null,
   "metadata": {},
   "outputs": [],
   "source": [
    "scrape_tool = ScrapeData()\n",
    "types = ['agriculture', 'finance', 'general'] \n",
    "Ranges = ['C3:M530', 'C3:M530', 'C3:O1120']"
   ]
  },
  {
   "cell_type": "code",
   "execution_count": null,
   "metadata": {},
   "outputs": [],
   "source": [
    "i = 0\n",
    "# fetchData(i, types, Ranges)"
   ]
  },
  {
   "cell_type": "code",
   "execution_count": null,
   "metadata": {},
   "outputs": [],
   "source": [
    "i = 1\n",
    "# fetchData(i, types, Ranges)"
   ]
  },
  {
   "cell_type": "code",
   "execution_count": null,
   "metadata": {},
   "outputs": [],
   "source": [
    "i = 2\n",
    "# fetchData(i, types, Ranges)"
   ]
  }
 ],
 "metadata": {
  "kernelspec": {
   "display_name": "Python 3",
   "language": "python",
   "name": "python3"
  },
  "language_info": {
   "codemirror_mode": {
    "name": "ipython",
    "version": 3
   },
   "file_extension": ".py",
   "mimetype": "text/x-python",
   "name": "python",
   "nbconvert_exporter": "python",
   "pygments_lexer": "ipython3",
   "version": "3.8.5"
  }
 },
 "nbformat": 4,
 "nbformat_minor": 5
}
