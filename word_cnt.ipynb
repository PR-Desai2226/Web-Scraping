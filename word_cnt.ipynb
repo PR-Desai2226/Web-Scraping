{
 "cells": [
  {
   "cell_type": "code",
   "execution_count": null,
   "metadata": {},
   "outputs": [],
   "source": [
    "import json\n",
    "import string\n",
    "from string import digits\n",
    "from collections import Counter\n",
    "import re\n",
    "import os\n",
    "\n",
    "\n",
    "num_chars = 128\n",
    "devnagri_chars = []\n",
    "for i in range(num_chars):\n",
    "    devnagri_chars.append(chr(ord(\"ऀ\") + i))\n",
    "def has_devnagri(text):\n",
    "    return any(dev_char in text for dev_char in devnagri_chars)\n",
    "\n",
    "words = [[],[],[]]\n",
    "store_counts = []"
   ]
  },
  {
   "cell_type": "code",
   "execution_count": null,
   "metadata": {},
   "outputs": [],
   "source": [
    "def getCnt(path,file):\n",
    "    jsonfile = open(f'{path}{file}', encoding=\"utf8\")\n",
    "    jsondata = jsonfile.read()\n",
    "    obj = json.loads(jsondata)\n",
    "    word_list = []\n",
    "\n",
    "    for page in obj:\n",
    "        for item in page['data']:\n",
    "            data = item['data']\n",
    "            for text in data:\n",
    "                text = re.sub(\"[.?।]\", \" \", text)\n",
    "                word_list += text.split()\n",
    "\n",
    "    jsonfile.close()\n",
    "\n",
    "    return word_list\n"
   ]
  },
  {
   "cell_type": "code",
   "execution_count": null,
   "metadata": {},
   "outputs": [],
   "source": [
    "root = r'C:\\\\Users\\\\Prachi Desai\\\\Desktop\\\\Scrap Data\\\\jsonOutputs\\\\' # Change to your path\n",
    "slash = r'\\\\'\n",
    "types = ['agriculture', 'finance'] \n",
    "\n",
    "i = 0    ## First run for i=0 then for i=1\n",
    "\n",
    "path=f'{root}{types[i]}{slash}'\n",
    "\n",
    "for (root, dirs, file) in os.walk(path):\n",
    "    for f in file:\n",
    "        words[i]+=getCnt(path,f)\n",
    "\n",
    "dct = Counter()\n",
    "\n",
    "word_count = 0\n",
    "\n",
    "for word in words[i]:\n",
    "    word = word.strip()\n",
    "    word = word.strip(digits).strip(\". \")\n",
    "    if has_devnagri(word):\n",
    "        dct[word] = dct.get(word, 0) + 1\n",
    "        word_count += 1\n",
    "store_counts.append(f\"Word count for {types[i]}: {word_count} \\nNumber of unique words for {types[i]}: {len(dct)}\")\n",
    "print(f\"Word count for {types[i]}: {word_count}\")\n",
    "print(f\"Number of unique words for {types[i]}: {len(dct)}\")\n",
    "\n",
    "if not os.path.exists(\"counts\"):\n",
    "    os.mkdir(\"counts\")\n",
    "\n",
    "f = open(os.path.join(\"counts\", f\"{types[i]}_words.csv\"), \"w+\", encoding=\"utf-8\")\n",
    "f.write(f\"word,count\\n\")\n",
    "for k, v in dct.most_common():\n",
    "    f.write(f\"{k},{v}\\n\")\n",
    "f.close()"
   ]
  },
  {
   "cell_type": "code",
   "execution_count": null,
   "metadata": {},
   "outputs": [],
   "source": [
    "all_words = words[0] + words[1] + words[2]\n",
    "\n",
    "dct = Counter()\n",
    "\n",
    "word_count = 0\n",
    "for word in all_words:\n",
    "    word = word.strip()\n",
    "    word = word.strip(digits).strip(\". \")\n",
    "    if has_devnagri(word):\n",
    "        dct[word] = dct.get(word, 0) + 1\n",
    "        word_count += 1\n",
    "\n",
    "store_counts.append(f\"Word count overall: {word_count} \\nNumber of unique words overall: {len(dct)}\")\n",
    "print(f\"Word count overall: {word_count}\")\n",
    "print(f\"Number of unique words overall: {len(dct)}\")\n",
    "\n",
    "if not os.path.exists(\"counts\"):\n",
    "    os.mkdir(\"counts\")\n",
    "\n",
    "f = open(os.path.join(\"counts\", f\"All_words.csv\"), \"w+\", encoding=\"utf-8\")\n",
    "f.write(f\"word,count\\n\")\n",
    "for k, v in dct.most_common():\n",
    "    f.write(f\"{k},{v}\\n\")\n",
    "f.close()\n",
    "\n",
    "store_counts_str = '\\n\\n'.join(store_counts)"
   ]
  },
  {
   "cell_type": "code",
   "execution_count": null,
   "metadata": {},
   "outputs": [],
   "source": [
    "print(store_counts_str)"
   ]
  }
 ],
 "metadata": {
  "kernelspec": {
   "display_name": "Python 3",
   "language": "python",
   "name": "python3"
  },
  "language_info": {
   "codemirror_mode": {
    "name": "ipython",
    "version": 3
   },
   "file_extension": ".py",
   "mimetype": "text/x-python",
   "name": "python",
   "nbconvert_exporter": "python",
   "pygments_lexer": "ipython3",
   "version": "3.8.5"
  }
 },
 "nbformat": 4,
 "nbformat_minor": 4
}
