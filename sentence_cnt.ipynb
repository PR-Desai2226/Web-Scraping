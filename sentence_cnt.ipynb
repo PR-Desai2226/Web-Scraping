{
 "cells": [
  {
   "cell_type": "code",
   "execution_count": null,
   "metadata": {
    "code_folding": []
   },
   "outputs": [],
   "source": [
    "import json\n",
    "import string\n",
    "from string import digits\n",
    "from collections import Counter\n",
    "import re\n",
    "import os\n",
    "\n",
    "\n",
    "num_chars = 128\n",
    "devnagri_chars = []\n",
    "for i in range(num_chars):\n",
    "    devnagri_chars.append(chr(ord(\"ऀ\") + i))\n",
    "def has_devnagri(text):\n",
    "    return any(dev_char in text for dev_char in devnagri_chars)\n",
    "\n",
    "all_sent_count = 0\n",
    "all_sentences = []\n",
    "store_counts_sentences = []"
   ]
  },
  {
   "cell_type": "code",
   "execution_count": null,
   "metadata": {
    "code_folding": []
   },
   "outputs": [],
   "source": [
    "def combine_delim(to_combine):\n",
    "    combined_list = []\n",
    "    for i, sent in enumerate(to_combine):\n",
    "        if i and sent in [\".\", \"?\", \"।\"]:\n",
    "            combined_list[-1] += sent\n",
    "        else:\n",
    "            combined_list.append(sent.strip())\n",
    "    return combined_list\n",
    "\n",
    "def clean_sentences(contents):\n",
    "    cleaned_sentences = []\n",
    "    for sentence in combine_delim(list(filter(None, re.split(r\"([.?।])\", contents)))):\n",
    "        cleaned_sentence = re.sub(' +',' ',sentence).strip(\". \")\n",
    "        if 8 < len(cleaned_sentence) < 1024 and has_devnagri(cleaned_sentence):\n",
    "            cleaned_sentences.append(cleaned_sentence)\n",
    "    return cleaned_sentences"
   ]
  },
  {
   "cell_type": "code",
   "execution_count": null,
   "metadata": {
    "code_folding": []
   },
   "outputs": [],
   "source": [
    "def save_sentences(domain):\n",
    "    \n",
    "    root = r'C:\\\\Users\\\\Prachi Desai\\\\Desktop\\\\Scrap Data\\\\jsonOutputs\\\\' # Change to your path\n",
    "    slash = r'\\\\'\n",
    "    path=f'{root}{domain}{slash}'\n",
    "    \n",
    "    dom_sentences = []\n",
    "    \n",
    "    for root, dirs, files in os.walk(path, topdown=True):\n",
    "        for file in files:\n",
    "            text = \"\"\n",
    "            if file.endswith(\".json\"):\n",
    "                with open(os.path.join(root, file), \"r\", encoding=\"utf-8\") as f:\n",
    "                    obj = json.load(f)\n",
    "                    for page in obj:\n",
    "                        for item in page['data']:\n",
    "                            data = item['data']\n",
    "                            for text in data:\n",
    "                                sentences = clean_sentences(text)\n",
    "                                dom_sentences.extend(sentences)\n",
    "\n",
    "\n",
    "    if not os.path.exists(\"sentences\"):\n",
    "        os.mkdir(\"sentences\")\n",
    "\n",
    "    file_name = domain.lower() + \"_sen.txt\"\n",
    "    with open(os.path.join(\"sentences\", file_name), \"w+\", encoding=\"utf-8\") as f:\n",
    "        for sentence in dom_sentences:\n",
    "            f.write(f\"{sentence}\\n\")\n",
    "            \n",
    "    \n",
    "    return dom_sentences\n",
    "\n"
   ]
  },
  {
   "cell_type": "code",
   "execution_count": null,
   "metadata": {},
   "outputs": [],
   "source": [
    "i = 0 ## First run for i=0 then for i=1\n",
    "\n",
    "types = ['agriculture', 'finance'] \n",
    "\n",
    "domain = types[i]\n",
    "\n",
    "dom_sentences = save_sentences(domain)\n",
    "store_counts_sentences.append(f\"Number of sentences in {domain}: {len(dom_sentences)}\")\n",
    "print(f\"Number of sentences in {domain}: {len(dom_sentences)}\")\n",
    "all_sent_count += len(dom_sentences)\n",
    "all_sentences.extend(dom_sentences)\n"
   ]
  },
  {
   "cell_type": "code",
   "execution_count": null,
   "metadata": {},
   "outputs": [],
   "source": [
    "with open(\n",
    "    os.path.join(\"sentences\", \"all_sents.txt\"), \"w+\", encoding=\"utf-8\"\n",
    ") as f:\n",
    "    for sentence in all_sentences:\n",
    "        f.write(f\"{sentence}\\n\")\n",
    "        \n",
    "store_counts_str = '\\n\\n'.join(store_counts_sentences)\n",
    "print(store_counts_str)\n",
    "print(f\"\\nNumber of sentences in all: {all_sent_count}\")"
   ]
  }
 ],
 "metadata": {
  "kernelspec": {
   "display_name": "Python 3",
   "language": "python",
   "name": "python3"
  },
  "language_info": {
   "codemirror_mode": {
    "name": "ipython",
    "version": 3
   },
   "file_extension": ".py",
   "mimetype": "text/x-python",
   "name": "python",
   "nbconvert_exporter": "python",
   "pygments_lexer": "ipython3",
   "version": "3.8.5"
  }
 },
 "nbformat": 4,
 "nbformat_minor": 4
}
